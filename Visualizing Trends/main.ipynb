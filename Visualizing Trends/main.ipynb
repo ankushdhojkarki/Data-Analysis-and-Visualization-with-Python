{
 "cells": [
  {
   "cell_type": "code",
   "execution_count": 1,
   "id": "85c49163",
   "metadata": {},
   "outputs": [
    {
     "name": "stdout",
     "output_type": "stream",
     "text": [
      "Requirement already satisfied: pandas in c:\\users\\ankus\\appdata\\local\\programs\\python\\python313\\lib\\site-packages (2.2.3)\n",
      "Requirement already satisfied: matplotlib in c:\\users\\ankus\\appdata\\local\\programs\\python\\python313\\lib\\site-packages (3.10.3)\n",
      "Collecting plotly.express\n",
      "  Using cached plotly_express-0.4.1-py2.py3-none-any.whl.metadata (1.7 kB)\n",
      "Requirement already satisfied: numpy>=1.26.0 in c:\\users\\ankus\\appdata\\local\\programs\\python\\python313\\lib\\site-packages (from pandas) (2.2.6)\n",
      "Requirement already satisfied: python-dateutil>=2.8.2 in c:\\users\\ankus\\appdata\\roaming\\python\\python313\\site-packages (from pandas) (2.9.0.post0)\n",
      "Requirement already satisfied: pytz>=2020.1 in c:\\users\\ankus\\appdata\\local\\programs\\python\\python313\\lib\\site-packages (from pandas) (2025.2)\n",
      "Requirement already satisfied: tzdata>=2022.7 in c:\\users\\ankus\\appdata\\local\\programs\\python\\python313\\lib\\site-packages (from pandas) (2025.2)\n",
      "Requirement already satisfied: contourpy>=1.0.1 in c:\\users\\ankus\\appdata\\local\\programs\\python\\python313\\lib\\site-packages (from matplotlib) (1.3.2)\n",
      "Requirement already satisfied: cycler>=0.10 in c:\\users\\ankus\\appdata\\local\\programs\\python\\python313\\lib\\site-packages (from matplotlib) (0.12.1)\n",
      "Requirement already satisfied: fonttools>=4.22.0 in c:\\users\\ankus\\appdata\\local\\programs\\python\\python313\\lib\\site-packages (from matplotlib) (4.58.0)\n",
      "Requirement already satisfied: kiwisolver>=1.3.1 in c:\\users\\ankus\\appdata\\local\\programs\\python\\python313\\lib\\site-packages (from matplotlib) (1.4.8)\n",
      "Requirement already satisfied: packaging>=20.0 in c:\\users\\ankus\\appdata\\roaming\\python\\python313\\site-packages (from matplotlib) (25.0)\n",
      "Requirement already satisfied: pillow>=8 in c:\\users\\ankus\\appdata\\local\\programs\\python\\python313\\lib\\site-packages (from matplotlib) (11.2.1)\n",
      "Requirement already satisfied: pyparsing>=2.3.1 in c:\\users\\ankus\\appdata\\local\\programs\\python\\python313\\lib\\site-packages (from matplotlib) (3.2.3)\n",
      "Requirement already satisfied: plotly>=4.1.0 in c:\\users\\ankus\\appdata\\local\\programs\\python\\python313\\lib\\site-packages (from plotly.express) (6.1.2)\n",
      "Collecting statsmodels>=0.9.0 (from plotly.express)\n",
      "  Downloading statsmodels-0.14.4-cp313-cp313-win_amd64.whl.metadata (9.5 kB)\n",
      "Collecting scipy>=0.18 (from plotly.express)\n",
      "  Downloading scipy-1.15.3-cp313-cp313-win_amd64.whl.metadata (60 kB)\n",
      "Collecting patsy>=0.5 (from plotly.express)\n",
      "  Downloading patsy-1.0.1-py2.py3-none-any.whl.metadata (3.3 kB)\n",
      "Requirement already satisfied: narwhals>=1.15.1 in c:\\users\\ankus\\appdata\\local\\programs\\python\\python313\\lib\\site-packages (from plotly>=4.1.0->plotly.express) (1.41.0)\n",
      "Requirement already satisfied: six>=1.5 in c:\\users\\ankus\\appdata\\roaming\\python\\python313\\site-packages (from python-dateutil>=2.8.2->pandas) (1.17.0)\n",
      "Using cached plotly_express-0.4.1-py2.py3-none-any.whl (2.9 kB)\n",
      "Downloading patsy-1.0.1-py2.py3-none-any.whl (232 kB)\n",
      "Downloading scipy-1.15.3-cp313-cp313-win_amd64.whl (41.0 MB)\n",
      "   ---------------------------------------- 0.0/41.0 MB ? eta -:--:--\n",
      "   -- ------------------------------------- 2.4/41.0 MB 13.5 MB/s eta 0:00:03\n",
      "   ---- ----------------------------------- 4.2/41.0 MB 18.2 MB/s eta 0:00:03\n",
      "   ---------- ----------------------------- 11.0/41.0 MB 21.0 MB/s eta 0:00:02\n",
      "   -------------- ------------------------- 14.7/41.0 MB 19.2 MB/s eta 0:00:02\n",
      "   -------------------- ------------------- 21.0/41.0 MB 21.3 MB/s eta 0:00:01\n",
      "   -------------------------- ------------- 27.5/41.0 MB 22.8 MB/s eta 0:00:01\n",
      "   --------------------------------- ------ 33.8/41.0 MB 23.9 MB/s eta 0:00:01\n",
      "   ---------------------------------------  40.4/41.0 MB 24.7 MB/s eta 0:00:01\n",
      "   ---------------------------------------- 41.0/41.0 MB 23.6 MB/s eta 0:00:00\n",
      "Downloading statsmodels-0.14.4-cp313-cp313-win_amd64.whl (9.8 MB)\n",
      "   ---------------------------------------- 0.0/9.8 MB ? eta -:--:--\n",
      "   ------------------------ --------------- 6.0/9.8 MB 30.0 MB/s eta 0:00:01\n",
      "   ---------------------------------------- 9.8/9.8 MB 23.4 MB/s eta 0:00:00\n",
      "Installing collected packages: scipy, patsy, statsmodels, plotly.express\n",
      "\n",
      "   ---------------------------------------- 0/4 [scipy]\n",
      "   ---------------------------------------- 0/4 [scipy]\n",
      "   ---------------------------------------- 0/4 [scipy]\n",
      "   ---------------------------------------- 0/4 [scipy]\n",
      "   ---------------------------------------- 0/4 [scipy]\n",
      "   ---------------------------------------- 0/4 [scipy]\n",
      "   ---------------------------------------- 0/4 [scipy]\n",
      "   ---------------------------------------- 0/4 [scipy]\n",
      "   ---------------------------------------- 0/4 [scipy]\n",
      "   ---------------------------------------- 0/4 [scipy]\n",
      "   ---------------------------------------- 0/4 [scipy]\n",
      "   ---------------------------------------- 0/4 [scipy]\n",
      "   ---------------------------------------- 0/4 [scipy]\n",
      "   ---------------------------------------- 0/4 [scipy]\n",
      "   ---------------------------------------- 0/4 [scipy]\n",
      "   ---------------------------------------- 0/4 [scipy]\n",
      "   ---------------------------------------- 0/4 [scipy]\n",
      "   ---------------------------------------- 0/4 [scipy]\n",
      "   ---------------------------------------- 0/4 [scipy]\n",
      "   ---------------------------------------- 0/4 [scipy]\n",
      "   ---------------------------------------- 0/4 [scipy]\n",
      "   ---------------------------------------- 0/4 [scipy]\n",
      "   ---------------------------------------- 0/4 [scipy]\n",
      "   ---------------------------------------- 0/4 [scipy]\n",
      "   ---------------------------------------- 0/4 [scipy]\n",
      "   ---------------------------------------- 0/4 [scipy]\n",
      "   ---------------------------------------- 0/4 [scipy]\n",
      "   ---------------------------------------- 0/4 [scipy]\n",
      "   ---------------------------------------- 0/4 [scipy]\n",
      "   ---------------------------------------- 0/4 [scipy]\n",
      "   ---------------------------------------- 0/4 [scipy]\n",
      "   ---------------------------------------- 0/4 [scipy]\n",
      "   ---------------------------------------- 0/4 [scipy]\n",
      "   ---------------------------------------- 0/4 [scipy]\n",
      "   ---------------------------------------- 0/4 [scipy]\n",
      "   ---------------------------------------- 0/4 [scipy]\n",
      "   ---------------------------------------- 0/4 [scipy]\n",
      "   ---------------------------------------- 0/4 [scipy]\n",
      "   ---------------------------------------- 0/4 [scipy]\n",
      "   ---------------------------------------- 0/4 [scipy]\n",
      "   ---------------------------------------- 0/4 [scipy]\n",
      "   ---------------------------------------- 0/4 [scipy]\n",
      "   ---------------------------------------- 0/4 [scipy]\n",
      "   ---------------------------------------- 0/4 [scipy]\n",
      "   ---------------------------------------- 0/4 [scipy]\n",
      "   ---------------------------------------- 0/4 [scipy]\n",
      "   ---------------------------------------- 0/4 [scipy]\n",
      "   ---------------------------------------- 0/4 [scipy]\n",
      "   ---------------------------------------- 0/4 [scipy]\n",
      "   ---------------------------------------- 0/4 [scipy]\n",
      "   ---------------------------------------- 0/4 [scipy]\n",
      "   ---------------------------------------- 0/4 [scipy]\n",
      "   ---------------------------------------- 0/4 [scipy]\n",
      "   ---------------------------------------- 0/4 [scipy]\n",
      "   ---------------------------------------- 0/4 [scipy]\n",
      "   ---------------------------------------- 0/4 [scipy]\n",
      "   ---------------------------------------- 0/4 [scipy]\n",
      "   ---------------------------------------- 0/4 [scipy]\n",
      "   ---------------------------------------- 0/4 [scipy]\n",
      "   ---------------------------------------- 0/4 [scipy]\n",
      "   ---------------------------------------- 0/4 [scipy]\n",
      "   ---------------------------------------- 0/4 [scipy]\n",
      "   ---------------------------------------- 0/4 [scipy]\n",
      "   ---------------------------------------- 0/4 [scipy]\n",
      "   ---------------------------------------- 0/4 [scipy]\n",
      "   ---------------------------------------- 0/4 [scipy]\n",
      "   ---------------------------------------- 0/4 [scipy]\n",
      "   ---------------------------------------- 0/4 [scipy]\n",
      "   ---------------------------------------- 0/4 [scipy]\n",
      "   ---------------------------------------- 0/4 [scipy]\n",
      "   ---------------------------------------- 0/4 [scipy]\n",
      "   ---------------------------------------- 0/4 [scipy]\n",
      "   ---------------------------------------- 0/4 [scipy]\n",
      "   ---------------------------------------- 0/4 [scipy]\n",
      "   ---------------------------------------- 0/4 [scipy]\n",
      "   ---------------------------------------- 0/4 [scipy]\n",
      "   ---------------------------------------- 0/4 [scipy]\n",
      "   ---------------------------------------- 0/4 [scipy]\n",
      "   ---------------------------------------- 0/4 [scipy]\n",
      "   ---------------------------------------- 0/4 [scipy]\n",
      "   ---------------------------------------- 0/4 [scipy]\n",
      "   ---------------------------------------- 0/4 [scipy]\n",
      "   ---------------------------------------- 0/4 [scipy]\n",
      "   ---------------------------------------- 0/4 [scipy]\n",
      "   ---------------------------------------- 0/4 [scipy]\n",
      "   ---------------------------------------- 0/4 [scipy]\n",
      "   ---------------------------------------- 0/4 [scipy]\n",
      "   ---------------------------------------- 0/4 [scipy]\n",
      "   ---------------------------------------- 0/4 [scipy]\n",
      "   ---------------------------------------- 0/4 [scipy]\n",
      "   ---------------------------------------- 0/4 [scipy]\n",
      "   ---------------------------------------- 0/4 [scipy]\n",
      "   ---------------------------------------- 0/4 [scipy]\n",
      "   ---------------------------------------- 0/4 [scipy]\n",
      "   ---------------------------------------- 0/4 [scipy]\n",
      "   ---------------------------------------- 0/4 [scipy]\n",
      "   ---------------------------------------- 0/4 [scipy]\n",
      "   ---------------------------------------- 0/4 [scipy]\n",
      "   ---------------------------------------- 0/4 [scipy]\n",
      "   ---------------------------------------- 0/4 [scipy]\n",
      "   ---------------------------------------- 0/4 [scipy]\n",
      "   ---------------------------------------- 0/4 [scipy]\n",
      "   ---------------------------------------- 0/4 [scipy]\n",
      "   ---------------------------------------- 0/4 [scipy]\n",
      "   ---------------------------------------- 0/4 [scipy]\n",
      "   ---------------------------------------- 0/4 [scipy]\n",
      "   ---------------------------------------- 0/4 [scipy]\n",
      "   ---------------------------------------- 0/4 [scipy]\n",
      "   ---------------------------------------- 0/4 [scipy]\n",
      "   ---------------------------------------- 0/4 [scipy]\n",
      "   ---------------------------------------- 0/4 [scipy]\n",
      "   ---------------------------------------- 0/4 [scipy]\n",
      "   ---------------------------------------- 0/4 [scipy]\n",
      "   ---------------------------------------- 0/4 [scipy]\n",
      "   ---------------------------------------- 0/4 [scipy]\n",
      "   ---------------------------------------- 0/4 [scipy]\n",
      "   ---------------------------------------- 0/4 [scipy]\n",
      "   ---------------------------------------- 0/4 [scipy]\n",
      "   ---------------------------------------- 0/4 [scipy]\n",
      "   ---------------------------------------- 0/4 [scipy]\n",
      "   ---------------------------------------- 0/4 [scipy]\n",
      "   ---------------------------------------- 0/4 [scipy]\n",
      "   ---------------------------------------- 0/4 [scipy]\n",
      "   ---------------------------------------- 0/4 [scipy]\n",
      "   ---------------------------------------- 0/4 [scipy]\n",
      "   ---------------------------------------- 0/4 [scipy]\n",
      "   ---------------------------------------- 0/4 [scipy]\n",
      "   ---------------------------------------- 0/4 [scipy]\n",
      "   ---------------------------------------- 0/4 [scipy]\n",
      "   ---------------------------------------- 0/4 [scipy]\n",
      "   ---------------------------------------- 0/4 [scipy]\n",
      "   ---------------------------------------- 0/4 [scipy]\n",
      "   ---------------------------------------- 0/4 [scipy]\n",
      "   ---------------------------------------- 0/4 [scipy]\n",
      "   ---------------------------------------- 0/4 [scipy]\n",
      "   ---------------------------------------- 0/4 [scipy]\n",
      "   ---------------------------------------- 0/4 [scipy]\n",
      "   ---------------------------------------- 0/4 [scipy]\n",
      "   ---------------------------------------- 0/4 [scipy]\n",
      "   ---------------------------------------- 0/4 [scipy]\n",
      "   ---------------------------------------- 0/4 [scipy]\n",
      "   ---------------------------------------- 0/4 [scipy]\n",
      "   ---------- ----------------------------- 1/4 [patsy]\n",
      "   ---------- ----------------------------- 1/4 [patsy]\n",
      "   ---------- ----------------------------- 1/4 [patsy]\n",
      "   ---------- ----------------------------- 1/4 [patsy]\n",
      "   ---------- ----------------------------- 1/4 [patsy]\n",
      "   -------------------- ------------------- 2/4 [statsmodels]\n",
      "   -------------------- ------------------- 2/4 [statsmodels]\n",
      "   -------------------- ------------------- 2/4 [statsmodels]\n",
      "   -------------------- ------------------- 2/4 [statsmodels]\n",
      "   -------------------- ------------------- 2/4 [statsmodels]\n",
      "   -------------------- ------------------- 2/4 [statsmodels]\n",
      "   -------------------- ------------------- 2/4 [statsmodels]\n",
      "   -------------------- ------------------- 2/4 [statsmodels]\n",
      "   -------------------- ------------------- 2/4 [statsmodels]\n",
      "   -------------------- ------------------- 2/4 [statsmodels]\n",
      "   -------------------- ------------------- 2/4 [statsmodels]\n",
      "   -------------------- ------------------- 2/4 [statsmodels]\n",
      "   -------------------- ------------------- 2/4 [statsmodels]\n",
      "   -------------------- ------------------- 2/4 [statsmodels]\n",
      "   -------------------- ------------------- 2/4 [statsmodels]\n",
      "   -------------------- ------------------- 2/4 [statsmodels]\n",
      "   -------------------- ------------------- 2/4 [statsmodels]\n",
      "   -------------------- ------------------- 2/4 [statsmodels]\n",
      "   -------------------- ------------------- 2/4 [statsmodels]\n",
      "   -------------------- ------------------- 2/4 [statsmodels]\n",
      "   -------------------- ------------------- 2/4 [statsmodels]\n",
      "   -------------------- ------------------- 2/4 [statsmodels]\n",
      "   -------------------- ------------------- 2/4 [statsmodels]\n",
      "   -------------------- ------------------- 2/4 [statsmodels]\n",
      "   -------------------- ------------------- 2/4 [statsmodels]\n",
      "   -------------------- ------------------- 2/4 [statsmodels]\n",
      "   -------------------- ------------------- 2/4 [statsmodels]\n",
      "   -------------------- ------------------- 2/4 [statsmodels]\n",
      "   -------------------- ------------------- 2/4 [statsmodels]\n",
      "   -------------------- ------------------- 2/4 [statsmodels]\n",
      "   -------------------- ------------------- 2/4 [statsmodels]\n",
      "   -------------------- ------------------- 2/4 [statsmodels]\n",
      "   -------------------- ------------------- 2/4 [statsmodels]\n",
      "   -------------------- ------------------- 2/4 [statsmodels]\n",
      "   -------------------- ------------------- 2/4 [statsmodels]\n",
      "   -------------------- ------------------- 2/4 [statsmodels]\n",
      "   -------------------- ------------------- 2/4 [statsmodels]\n",
      "   -------------------- ------------------- 2/4 [statsmodels]\n",
      "   -------------------- ------------------- 2/4 [statsmodels]\n",
      "   -------------------- ------------------- 2/4 [statsmodels]\n",
      "   -------------------- ------------------- 2/4 [statsmodels]\n",
      "   -------------------- ------------------- 2/4 [statsmodels]\n",
      "   -------------------- ------------------- 2/4 [statsmodels]\n",
      "   -------------------- ------------------- 2/4 [statsmodels]\n",
      "   -------------------- ------------------- 2/4 [statsmodels]\n",
      "   -------------------- ------------------- 2/4 [statsmodels]\n",
      "   -------------------- ------------------- 2/4 [statsmodels]\n",
      "   -------------------- ------------------- 2/4 [statsmodels]\n",
      "   -------------------- ------------------- 2/4 [statsmodels]\n",
      "   -------------------- ------------------- 2/4 [statsmodels]\n",
      "   -------------------- ------------------- 2/4 [statsmodels]\n",
      "   -------------------- ------------------- 2/4 [statsmodels]\n",
      "   -------------------- ------------------- 2/4 [statsmodels]\n",
      "   -------------------- ------------------- 2/4 [statsmodels]\n",
      "   -------------------- ------------------- 2/4 [statsmodels]\n",
      "   -------------------- ------------------- 2/4 [statsmodels]\n",
      "   -------------------- ------------------- 2/4 [statsmodels]\n",
      "   -------------------- ------------------- 2/4 [statsmodels]\n",
      "   -------------------- ------------------- 2/4 [statsmodels]\n",
      "   -------------------- ------------------- 2/4 [statsmodels]\n",
      "   -------------------- ------------------- 2/4 [statsmodels]\n",
      "   -------------------- ------------------- 2/4 [statsmodels]\n",
      "   -------------------- ------------------- 2/4 [statsmodels]\n",
      "   -------------------- ------------------- 2/4 [statsmodels]\n",
      "   -------------------- ------------------- 2/4 [statsmodels]\n",
      "   -------------------- ------------------- 2/4 [statsmodels]\n",
      "   -------------------- ------------------- 2/4 [statsmodels]\n",
      "   -------------------- ------------------- 2/4 [statsmodels]\n",
      "   -------------------- ------------------- 2/4 [statsmodels]\n",
      "   -------------------- ------------------- 2/4 [statsmodels]\n",
      "   -------------------- ------------------- 2/4 [statsmodels]\n",
      "   -------------------- ------------------- 2/4 [statsmodels]\n",
      "   -------------------- ------------------- 2/4 [statsmodels]\n",
      "   -------------------- ------------------- 2/4 [statsmodels]\n",
      "   -------------------- ------------------- 2/4 [statsmodels]\n",
      "   -------------------- ------------------- 2/4 [statsmodels]\n",
      "   -------------------- ------------------- 2/4 [statsmodels]\n",
      "   -------------------- ------------------- 2/4 [statsmodels]\n",
      "   -------------------- ------------------- 2/4 [statsmodels]\n",
      "   -------------------- ------------------- 2/4 [statsmodels]\n",
      "   -------------------- ------------------- 2/4 [statsmodels]\n",
      "   -------------------- ------------------- 2/4 [statsmodels]\n",
      "   -------------------- ------------------- 2/4 [statsmodels]\n",
      "   -------------------- ------------------- 2/4 [statsmodels]\n",
      "   -------------------- ------------------- 2/4 [statsmodels]\n",
      "   -------------------- ------------------- 2/4 [statsmodels]\n",
      "   -------------------- ------------------- 2/4 [statsmodels]\n",
      "   -------------------- ------------------- 2/4 [statsmodels]\n",
      "   -------------------- ------------------- 2/4 [statsmodels]\n",
      "   -------------------- ------------------- 2/4 [statsmodels]\n",
      "   -------------------- ------------------- 2/4 [statsmodels]\n",
      "   -------------------- ------------------- 2/4 [statsmodels]\n",
      "   -------------------- ------------------- 2/4 [statsmodels]\n",
      "   -------------------- ------------------- 2/4 [statsmodels]\n",
      "   -------------------- ------------------- 2/4 [statsmodels]\n",
      "   -------------------- ------------------- 2/4 [statsmodels]\n",
      "   -------------------- ------------------- 2/4 [statsmodels]\n",
      "   -------------------- ------------------- 2/4 [statsmodels]\n",
      "   -------------------- ------------------- 2/4 [statsmodels]\n",
      "   -------------------- ------------------- 2/4 [statsmodels]\n",
      "   -------------------- ------------------- 2/4 [statsmodels]\n",
      "   -------------------- ------------------- 2/4 [statsmodels]\n",
      "   -------------------- ------------------- 2/4 [statsmodels]\n",
      "   -------------------- ------------------- 2/4 [statsmodels]\n",
      "   -------------------- ------------------- 2/4 [statsmodels]\n",
      "   -------------------- ------------------- 2/4 [statsmodels]\n",
      "   -------------------- ------------------- 2/4 [statsmodels]\n",
      "   -------------------- ------------------- 2/4 [statsmodels]\n",
      "   -------------------- ------------------- 2/4 [statsmodels]\n",
      "   -------------------- ------------------- 2/4 [statsmodels]\n",
      "   -------------------- ------------------- 2/4 [statsmodels]\n",
      "   -------------------- ------------------- 2/4 [statsmodels]\n",
      "   -------------------- ------------------- 2/4 [statsmodels]\n",
      "   -------------------- ------------------- 2/4 [statsmodels]\n",
      "   -------------------- ------------------- 2/4 [statsmodels]\n",
      "   -------------------- ------------------- 2/4 [statsmodels]\n",
      "   -------------------- ------------------- 2/4 [statsmodels]\n",
      "   -------------------- ------------------- 2/4 [statsmodels]\n",
      "   -------------------- ------------------- 2/4 [statsmodels]\n",
      "   -------------------- ------------------- 2/4 [statsmodels]\n",
      "   -------------------- ------------------- 2/4 [statsmodels]\n",
      "   ---------------------------------------- 4/4 [plotly.express]\n",
      "\n",
      "Successfully installed patsy-1.0.1 plotly.express-0.4.1 scipy-1.15.3 statsmodels-0.14.4\n",
      "Note: you may need to restart the kernel to use updated packages.\n"
     ]
    }
   ],
   "source": [
    "%pip install pandas matplotlib plotly.express"
   ]
  },
  {
   "cell_type": "code",
   "execution_count": null,
   "id": "c4c510fc",
   "metadata": {},
   "outputs": [
    {
     "name": "stdout",
     "output_type": "stream",
     "text": [
      "First 5 rows of the dataset:\n",
      "   song_id artist_name      genre  release_year  duration_seconds  tempo  \\\n",
      "0        1    Artist G       Rock          2011               270    172   \n",
      "1        2    Artist D        Pop          2000               246    146   \n",
      "2        3    Artist H       Jazz          2005               274    155   \n",
      "3        4    Artist E       Jazz          2022               249    105   \n",
      "4        5    Artist G  Classical          1998               136     95   \n",
      "\n",
      "     energy  danceability   valence  acousticness  popularity  listen_count  \\\n",
      "0  0.504482      0.478219  0.817431      0.091869          59         43460   \n",
      "1  0.858454      0.412011  0.479169      0.488496          42         91397   \n",
      "2  0.815048      0.550194  0.634046      0.230904          75         73847   \n",
      "3  0.557396      0.246641  0.237856      0.464991          99         94607   \n",
      "4  0.750523      0.784637  0.253831      0.123490          67         90106   \n",
      "\n",
      "   user_age  \n",
      "0        23  \n",
      "1        54  \n",
      "2        16  \n",
      "3        59  \n",
      "4        39  \n",
      "\n",
      "Column information:\n",
      "<class 'pandas.core.frame.DataFrame'>\n",
      "RangeIndex: 100 entries, 0 to 99\n",
      "Data columns (total 13 columns):\n",
      " #   Column            Non-Null Count  Dtype  \n",
      "---  ------            --------------  -----  \n",
      " 0   song_id           100 non-null    int64  \n",
      " 1   artist_name       100 non-null    object \n",
      " 2   genre             100 non-null    object \n",
      " 3   release_year      100 non-null    int64  \n",
      " 4   duration_seconds  100 non-null    int64  \n",
      " 5   tempo             100 non-null    int64  \n",
      " 6   energy            100 non-null    float64\n",
      " 7   danceability      100 non-null    float64\n",
      " 8   valence           100 non-null    float64\n",
      " 9   acousticness      100 non-null    float64\n",
      " 10  popularity        100 non-null    int64  \n",
      " 11  listen_count      100 non-null    int64  \n",
      " 12  user_age          100 non-null    int64  \n",
      "dtypes: float64(4), int64(7), object(2)\n",
      "memory usage: 10.3+ KB\n",
      "None\n"
     ]
    }
   ],
   "source": [
    "import pandas as pd\n",
    "import matplotlib.pyplot as plt\n",
    "\n",
    "music_data = pd.read_csv('music_data.csv')\n",
    "print(\"First 5 rows of the dataset:\")\n",
    "print(music_data.head())\n",
    "\n",
    "print(\"\\nColumn information:\")\n",
    "print(music_data.info())"
   ]
  },
  {
   "cell_type": "code",
   "execution_count": null,
   "id": "6b06efd6",
   "metadata": {},
   "outputs": [
    {
     "data": {
      "image/png": "[encoded data removed]",
      "text/plain": [
       "<Figure size 1000x600 with 1 Axes>"
      ]
     },
     "metadata": {},
     "output_type": "display_data"
    }
   ],
   "source": [
    "\n",
    "genre_counts = music_data['genre'].value_counts()   \n",
    "top_10_genres = genre_counts.head(10)\n",
    "\n",
    "plt.figure(figsize=(10, 6)) \n",
    "top_10_genres.plot(kind='bar')\n",
    "\n",
    "plt.title('Top 10 genres by Frequency')\n",
    "plt.xlabel('Genre') \n",
    "plt.ylabel('Number of Songs') \n",
    "\n",
    "plt.show()"
   ]
  },
  {
   "cell_type": "code",
   "execution_count": null,
   "id": "992e6c59",
   "metadata": {},
   "outputs": [
    {
     "data": {
      "image/png": "[encoded data removed]",
      "text/plain": [
       "<Figure size 800x500 with 1 Axes>"
      ]
     },
     "metadata": {},
     "output_type": "display_data"
    }
   ],
   "source": [
    "\n",
    "duration_seconds = music_data['duration_seconds'] \n",
    "\n",
    "\n",
    "plt.figure(figsize = (8, 5)) \n",
    "plt.hist(duration_seconds, bins=20, color='skyblue', edgecolor='black')\n",
    "\n",
    "plt.title('Distribution of Song Durations')\n",
    "plt.xlabel('Duration (seconds)')\n",
    "plt.ylabel('Frequency')\n",
    "\n",
    "plt.show()"
   ]
  },
  {
   "cell_type": "code",
   "execution_count": null,
   "id": "3adc4188",
   "metadata": {},
   "outputs": [
    {
     "data": {
      "image/png": "[encoded data removed]",
      "text/plain": [
       "<Figure size 800x500 with 1 Axes>"
      ]
     },
     "metadata": {},
     "output_type": "display_data"
    }
   ],
   "source": [
    "\n",
    "popularity = music_data['popularity'] \n",
    "\n",
    "\n",
    "plt.figure(figsize=(8, 5)) \n",
    "\n",
    "\n",
    "plt.hist(popularity, bins = 10, color = 'green', edgecolor = 'black')  \n",
    "\n",
    "\n",
    "plt.title('Distribution of Song Popularity')\n",
    "plt.xlabel('Popularity')\n",
    "plt.ylabel('Frequency')\n",
    "\n",
    "\n",
    "plt.show()"
   ]
  },
  {
   "cell_type": "code",
   "execution_count": null,
   "id": "4cea9767",
   "metadata": {},
   "outputs": [
    {
     "data": {
      "application/vnd.plotly.v1+json": {
       "config": {
        "plotlyServerURL": "https://plot.ly"
       },
       "data": [
        {
         "coloraxis": "coloraxis",
         "hovertemplate": "x: %{x}<br>y: %{y}<br>color: %{z}<extra></extra>",
         "name": "0",
         "texttemplate": "%{z:.2f}",
         "type": "heatmap",
         "x": [
          "tempo",
          "energy",
          "danceability",
          "valence",
          "acousticness",
          "popularity"
         ],
         "xaxis": "x",
         "y": [
          "tempo",
          "energy",
          "danceability",
          "valence",
          "acousticness",
          "popularity"
         ],
         "yaxis": "y",
         "z": {
          "bdata": "AAAAAAAA8D/ZgRmzYFjDv6b8JKXBGaU/xz2x1Xgbub+mJ/DPLZWwv8a8JGuFv60/2YEZs2BYw78AAAAAAADwP10qujLPfra/80qF7pxz0D8mqmuc5Va4P+U51RAI+6y/pvwkpcEZpT9dKroyz362vwAAAAAAAPA/ao4TI0BFob+/CcqkvS28v7tgcTYgM6u/xz2x1Xgbub/zSoXunHPQP2qOEyNARaG/AAAAAAAA8D9ql6zZ1ozDP7s17NHaDbk/pifwzy2VsL8mqmuc5Va4P78JyqS9Lby/apes2daMwz8AAAAAAADwP5QwxMF7krs/xrwka4W/rT/lOdUQCPusv7tgcTYgM6u/uzXs0doNuT+UMMTBe5K7PwAAAAAAAPA/",
          "dtype": "f8",
          "shape": "6, 6"
         }
        }
       ],
       "layout": {
        "coloraxis": {
         "colorscale": [
          [
           0,
           "rgb(103,0,31)"
          ],
          [
           0.1,
           "rgb(178,24,43)"
          ],
          [
           0.2,
           "rgb(214,96,77)"
          ],
          [
           0.3,
           "rgb(244,165,130)"
          ],
          [
           0.4,
           "rgb(253,219,199)"
          ],
          [
           0.5,
           "rgb(247,247,247)"
          ],
          [
           0.6,
           "rgb(209,229,240)"
          ],
          [
           0.7,
           "rgb(146,197,222)"
          ],
          [
           0.8,
           "rgb(67,147,195)"
          ],
          [
           0.9,
           "rgb(33,102,172)"
          ],
          [
           1,
           "rgb(5,48,97)"
          ]
         ]
        },
        "template": {
         "data": {
          "bar": [
           {
            "error_x": {
             "color": "#2a3f5f"
            },
            "error_y": {
             "color": "#2a3f5f"
            },
            "marker": {
             "line": {
              "color": "#E5ECF6",
              "width": 0.5
             },
             "pattern": {
              "fillmode": "overlay",
              "size": 10,
              "solidity": 0.2
             }
            },
            "type": "bar"
           }
          ],
          "barpolar": [
           {
            "marker": {
             "line": {
              "color": "#E5ECF6",
              "width": 0.5
             },
             "pattern": {
              "fillmode": "overlay",
              "size": 10,
              "solidity": 0.2
             }
            },
            "type": "barpolar"
           }
          ],
          "carpet": [
           {
            "aaxis": {
             "endlinecolor": "#2a3f5f",
             "gridcolor": "white",
             "linecolor": "white",
             "minorgridcolor": "white",
             "startlinecolor": "#2a3f5f"
            },
            "baxis": {
             "endlinecolor": "#2a3f5f",
             "gridcolor": "white",
             "linecolor": "white",
             "minorgridcolor": "white",
             "startlinecolor": "#2a3f5f"
            },
            "type": "carpet"
           }
          ],
          "choropleth": [
           {
            "colorbar": {
             "outlinewidth": 0,
             "ticks": ""
            },
            "type": "choropleth"
           }
          ],
          "contour": [
           {
            "colorbar": {
             "outlinewidth": 0,
             "ticks": ""
            },
            "colorscale": [
             [
              0,
              "#0d0887"
             ],
             [
              0.1111111111111111,
              "#46039f"
             ],
             [
              0.2222222222222222,
              "#7201a8"
             ],
             [
              0.3333333333333333,
              "#9c179e"
             ],
             [
              0.4444444444444444,
              "#bd3786"
             ],
             [
              0.5555555555555556,
              "#d8576b"
             ],
             [
              0.6666666666666666,
              "#ed7953"
             ],
             [
              0.7777777777777778,
              "#fb9f3a"
             ],
             [
              0.8888888888888888,
              "#fdca26"
             ],
             [
              1,
              "#f0f921"
             ]
            ],
            "type": "contour"
           }
          ],
          "contourcarpet": [
           {
            "colorbar": {
             "outlinewidth": 0,
             "ticks": ""
            },
            "type": "contourcarpet"
           }
          ],
          "heatmap": [
           {
            "colorbar": {
             "outlinewidth": 0,
             "ticks": ""
            },
            "colorscale": [
             [
              0,
              "#0d0887"
             ],
             [
              0.1111111111111111,
              "#46039f"
             ],
             [
              0.2222222222222222,
              "#7201a8"
             ],
             [
              0.3333333333333333,
              "#9c179e"
             ],
             [
              0.4444444444444444,
              "#bd3786"
             ],
             [
              0.5555555555555556,
              "#d8576b"
             ],
             [
              0.6666666666666666,
              "#ed7953"
             ],
             [
              0.7777777777777778,
              "#fb9f3a"
             ],
             [
              0.8888888888888888,
              "#fdca26"
             ],
             [
              1,
              "#f0f921"
             ]
            ],
            "type": "heatmap"
           }
          ],
          "histogram": [
           {
            "marker": {
             "pattern": {
              "fillmode": "overlay",
              "size": 10,
              "solidity": 0.2
             }
            },
            "type": "histogram"
           }
          ],
          "histogram2d": [
           {
            "colorbar": {
             "outlinewidth": 0,
             "ticks": ""
            },
            "colorscale": [
             [
              0,
              "#0d0887"
             ],
             [
              0.1111111111111111,
              "#46039f"
             ],
             [
              0.2222222222222222,
              "#7201a8"
             ],
             [
              0.3333333333333333,
              "#9c179e"
             ],
             [
              0.4444444444444444,
              "#bd3786"
             ],
             [
              0.5555555555555556,
              "#d8576b"
             ],
             [
              0.6666666666666666,
              "#ed7953"
             ],
             [
              0.7777777777777778,
              "#fb9f3a"
             ],
             [
              0.8888888888888888,
              "#fdca26"
             ],
             [
              1,
              "#f0f921"
             ]
            ],
            "type": "histogram2d"
           }
          ],
          "histogram2dcontour": [
           {
            "colorbar": {
             "outlinewidth": 0,
             "ticks": ""
            },
            "colorscale": [
             [
              0,
              "#0d0887"
             ],
             [
              0.1111111111111111,
              "#46039f"
             ],
             [
              0.2222222222222222,
              "#7201a8"
             ],
             [
              0.3333333333333333,
              "#9c179e"
             ],
             [
              0.4444444444444444,
              "#bd3786"
             ],
             [
              0.5555555555555556,
              "#d8576b"
             ],
             [
              0.6666666666666666,
              "#ed7953"
             ],
             [
              0.7777777777777778,
              "#fb9f3a"
             ],
             [
              0.8888888888888888,
              "#fdca26"
             ],
             [
              1,
              "#f0f921"
             ]
            ],
            "type": "histogram2dcontour"
           }
          ],
          "mesh3d": [
           {
            "colorbar": {
             "outlinewidth": 0,
             "ticks": ""
            },
            "type": "mesh3d"
           }
          ],
          "parcoords": [
           {
            "line": {
             "colorbar": {
              "outlinewidth": 0,
              "ticks": ""
             }
            },
            "type": "parcoords"
           }
          ],
          "pie": [
           {
            "automargin": true,
            "type": "pie"
           }
          ],
          "scatter": [
           {
            "fillpattern": {
             "fillmode": "overlay",
             "size": 10,
             "solidity": 0.2
            },
            "type": "scatter"
           }
          ],
          "scatter3d": [
           {
            "line": {
             "colorbar": {
              "outlinewidth": 0,
              "ticks": ""
             }
            },
            "marker": {
             "colorbar": {
              "outlinewidth": 0,
              "ticks": ""
             }
            },
            "type": "scatter3d"
           }
          ],
          "scattercarpet": [
           {
            "marker": {
             "colorbar": {
              "outlinewidth": 0,
              "ticks": ""
             }
            },
            "type": "scattercarpet"
           }
          ],
          "scattergeo": [
           {
            "marker": {
             "colorbar": {
              "outlinewidth": 0,
              "ticks": ""
             }
            },
            "type": "scattergeo"
           }
          ],
          "scattergl": [
           {
            "marker": {
             "colorbar": {
              "outlinewidth": 0,
              "ticks": ""
             }
            },
            "type": "scattergl"
           }
          ],
          "scattermap": [
           {
            "marker": {
             "colorbar": {
              "outlinewidth": 0,
              "ticks": ""
             }
            },
            "type": "scattermap"
           }
          ],
          "scattermapbox": [
           {
            "marker": {
             "colorbar": {
              "outlinewidth": 0,
              "ticks": ""
             }
            },
            "type": "scattermapbox"
           }
          ],
          "scatterpolar": [
           {
            "marker": {
             "colorbar": {
              "outlinewidth": 0,
              "ticks": ""
             }
            },
            "type": "scatterpolar"
           }
          ],
          "scatterpolargl": [
           {
            "marker": {
             "colorbar": {
              "outlinewidth": 0,
              "ticks": ""
             }
            },
            "type": "scatterpolargl"
           }
          ],
          "scatterternary": [
           {
            "marker": {
             "colorbar": {
              "outlinewidth": 0,
              "ticks": ""
             }
            },
            "type": "scatterternary"
           }
          ],
          "surface": [
           {
            "colorbar": {
             "outlinewidth": 0,
             "ticks": ""
            },
            "colorscale": [
             [
              0,
              "#0d0887"
             ],
             [
              0.1111111111111111,
              "#46039f"
             ],
             [
              0.2222222222222222,
              "#7201a8"
             ],
             [
              0.3333333333333333,
              "#9c179e"
             ],
             [
              0.4444444444444444,
              "#bd3786"
             ],
             [
              0.5555555555555556,
              "#d8576b"
             ],
             [
              0.6666666666666666,
              "#ed7953"
             ],
             [
              0.7777777777777778,
              "#fb9f3a"
             ],
             [
              0.8888888888888888,
              "#fdca26"
             ],
             [
              1,
              "#f0f921"
             ]
            ],
            "type": "surface"
           }
          ],
          "table": [
           {
            "cells": {
             "fill": {
              "color": "#EBF0F8"
             },
             "line": {
              "color": "white"
             }
            },
            "header": {
             "fill": {
              "color": "#C8D4E3"
             },
             "line": {
              "color": "white"
             }
            },
            "type": "table"
           }
          ]
         },
         "layout": {
          "annotationdefaults": {
           "arrowcolor": "#2a3f5f",
           "arrowhead": 0,
           "arrowwidth": 1
          },
          "autotypenumbers": "strict",
          "coloraxis": {
           "colorbar": {
            "outlinewidth": 0,
            "ticks": ""
           }
          },
          "colorscale": {
           "diverging": [
            [
             0,
             "#8e0152"
            ],
            [
             0.1,
             "#c51b7d"
            ],
            [
             0.2,
             "#de77ae"
            ],
            [
             0.3,
             "#f1b6da"
            ],
            [
             0.4,
             "#fde0ef"
            ],
            [
             0.5,
             "#f7f7f7"
            ],
            [
             0.6,
             "#e6f5d0"
            ],
            [
             0.7,
             "#b8e186"
            ],
            [
             0.8,
             "#7fbc41"
            ],
            [
             0.9,
             "#4d9221"
            ],
            [
             1,
             "#276419"
            ]
           ],
           "sequential": [
            [
             0,
             "#0d0887"
            ],
            [
             0.1111111111111111,
             "#46039f"
            ],
            [
             0.2222222222222222,
             "#7201a8"
            ],
            [
             0.3333333333333333,
             "#9c179e"
            ],
            [
             0.4444444444444444,
             "#bd3786"
            ],
            [
             0.5555555555555556,
             "#d8576b"
            ],
            [
             0.6666666666666666,
             "#ed7953"
            ],
            [
             0.7777777777777778,
             "#fb9f3a"
            ],
            [
             0.8888888888888888,
             "#fdca26"
            ],
            [
             1,
             "#f0f921"
            ]
           ],
           "sequentialminus": [
            [
             0,
             "#0d0887"
            ],
            [
             0.1111111111111111,
             "#46039f"
            ],
            [
             0.2222222222222222,
             "#7201a8"
            ],
            [
             0.3333333333333333,
             "#9c179e"
            ],
            [
             0.4444444444444444,
             "#bd3786"
            ],
            [
             0.5555555555555556,
             "#d8576b"
            ],
            [
             0.6666666666666666,
             "#ed7953"
            ],
            [
             0.7777777777777778,
             "#fb9f3a"
            ],
            [
             0.8888888888888888,
             "#fdca26"
            ],
            [
             1,
             "#f0f921"
            ]
           ]
          },
          "colorway": [
           "#636efa",
           "#EF553B",
           "#00cc96",
           "#ab63fa",
           "#FFA15A",
           "#19d3f3",
           "#FF6692",
           "#B6E880",
           "#FF97FF",
           "#FECB52"
          ],
          "font": {
           "color": "#2a3f5f"
          },
          "geo": {
           "bgcolor": "white",
           "lakecolor": "white",
           "landcolor": "#E5ECF6",
           "showlakes": true,
           "showland": true,
           "subunitcolor": "white"
          },
          "hoverlabel": {
           "align": "left"
          },
          "hovermode": "closest",
          "mapbox": {
           "style": "light"
          },
          "paper_bgcolor": "white",
          "plot_bgcolor": "#E5ECF6",
          "polar": {
           "angularaxis": {
            "gridcolor": "white",
            "linecolor": "white",
            "ticks": ""
           },
           "bgcolor": "#E5ECF6",
           "radialaxis": {
            "gridcolor": "white",
            "linecolor": "white",
            "ticks": ""
           }
          },
          "scene": {
           "xaxis": {
            "backgroundcolor": "#E5ECF6",
            "gridcolor": "white",
            "gridwidth": 2,
            "linecolor": "white",
            "showbackground": true,
            "ticks": "",
            "zerolinecolor": "white"
           },
           "yaxis": {
            "backgroundcolor": "#E5ECF6",
            "gridcolor": "white",
            "gridwidth": 2,
            "linecolor": "white",
            "showbackground": true,
            "ticks": "",
            "zerolinecolor": "white"
           },
           "zaxis": {
            "backgroundcolor": "#E5ECF6",
            "gridcolor": "white",
            "gridwidth": 2,
            "linecolor": "white",
            "showbackground": true,
            "ticks": "",
            "zerolinecolor": "white"
           }
          },
          "shapedefaults": {
           "line": {
            "color": "#2a3f5f"
           }
          },
          "ternary": {
           "aaxis": {
            "gridcolor": "white",
            "linecolor": "white",
            "ticks": ""
           },
           "baxis": {
            "gridcolor": "white",
            "linecolor": "white",
            "ticks": ""
           },
           "bgcolor": "#E5ECF6",
           "caxis": {
            "gridcolor": "white",
            "linecolor": "white",
            "ticks": ""
           }
          },
          "title": {
           "x": 0.05
          },
          "xaxis": {
           "automargin": true,
           "gridcolor": "white",
           "linecolor": "white",
           "ticks": "",
           "title": {
            "standoff": 15
           },
           "zerolinecolor": "white",
           "zerolinewidth": 2
          },
          "yaxis": {
           "automargin": true,
           "gridcolor": "white",
           "linecolor": "white",
           "ticks": "",
           "title": {
            "standoff": 15
           },
           "zerolinecolor": "white",
           "zerolinewidth": 2
          }
         }
        },
        "title": {
         "text": "Correlation Matrix of Music Features"
        },
        "xaxis": {
         "anchor": "y",
         "constrain": "domain",
         "domain": [
          0,
          1
         ],
         "scaleanchor": "y"
        },
        "yaxis": {
         "anchor": "x",
         "autorange": "reversed",
         "constrain": "domain",
         "domain": [
          0,
          1
         ]
        }
       }
      }
     },
     "metadata": {},
     "output_type": "display_data"
    }
   ],
   "source": [
    "import plotly.express as px\n",
    "\n",
    "numeric_features = music_data[['tempo', 'energy', 'danceability', \n",
    "                               'valence', 'acousticness', 'popularity']]\n",
    "\n",
    " \n",
    "correlation_matrix = numeric_features.corr()\n",
    "\n",
    "\n",
    "plt = px.imshow(correlation_matrix,\n",
    "                x=correlation_matrix.columns,\n",
    "                y=correlation_matrix.columns,\n",
    "                color_continuous_scale=\"RdBu\",  \n",
    "                text_auto = \".2f\",\n",
    "                title=\"Correlation Matrix of Music Features\"\n",
    "               )\n",
    "\n",
    "plt.show()"
   ]
  },
  {
   "cell_type": "code",
   "execution_count": null,
   "id": "ae0dc104",
   "metadata": {},
   "outputs": [
    {
     "data": {
      "application/vnd.plotly.v1+json": {
       "config": {
        "plotlyServerURL": "https://plot.ly"
       },
       "data": [
        {
         "alignmentgroup": "True",
         "box": {
          "visible": true
         },
         "hovertemplate": "genre=%{x}<br>popularity=%{y}<extra></extra>",
         "legendgroup": "",
         "marker": {
          "color": "#636efa"
         },
         "name": "",
         "offsetgroup": "",
         "orientation": "v",
         "scalegroup": "True",
         "showlegend": false,
         "type": "violin",
         "x": [
          "Rock",
          "Pop",
          "Jazz",
          "Jazz",
          "Classical",
          "Country",
          "Hip-Hop",
          "Classical",
          "R&B",
          "Hip-Hop",
          "Pop",
          "Hip-Hop",
          "Country",
          "Hip-Hop",
          "Pop",
          "Country",
          "Folk",
          "Jazz",
          "Jazz",
          "Indie",
          "Folk",
          "Folk",
          "Hip-Hop",
          "Jazz",
          "Pop",
          "Electronic",
          "Electronic",
          "Country",
          "Jazz",
          "Jazz",
          "Electronic",
          "Jazz",
          "Hip-Hop",
          "R&B",
          "Rock",
          "Folk",
          "Indie",
          "Country",
          "R&B",
          "Electronic",
          "Folk",
          "Jazz",
          "Indie",
          "Jazz",
          "Pop",
          "Pop",
          "Indie",
          "Indie",
          "Electronic",
          "Indie",
          "Hip-Hop",
          "Jazz",
          "R&B",
          "Classical",
          "Indie",
          "Country",
          "Pop",
          "Hip-Hop",
          "Folk",
          "Classical",
          "R&B",
          "Classical",
          "Indie",
          "Electronic",
          "Pop",
          "Pop",
          "Folk",
          "Electronic",
          "Jazz",
          "Rock",
          "Hip-Hop",
          "Pop",
          "Country",
          "Pop",
          "Classical",
          "Pop",
          "Pop",
          "Rock",
          "Rock",
          "R&B",
          "Jazz",
          "Country",
          "Pop",
          "Pop",
          "Hip-Hop",
          "Rock",
          "Country",
          "Folk",
          "R&B",
          "Jazz",
          "Electronic",
          "Jazz",
          "Classical",
          "Pop",
          "R&B",
          "Classical",
          "Country",
          "Electronic",
          "Rock",
          "R&B"
         ],
         "x0": " ",
         "xaxis": "x",
         "y": {
          "bdata": "OypLY0MEJEdbHggyHE0nKFUKFgAtFFkjNVY4AD41NicOFC5INAhJMzgZKCI+GFlKJQEGUVohWhAqOjI1FxhGM0VXIDAcPhUZG1QwRlBTMBNVWz48MEYAXwxdVjI3Uj0fHRwwLA==",
          "dtype": "i1"
         },
         "y0": " ",
         "yaxis": "y"
        }
       ],
       "layout": {
        "legend": {
         "tracegroupgap": 0
        },
        "template": {
         "data": {
          "bar": [
           {
            "error_x": {
             "color": "#2a3f5f"
            },
            "error_y": {
             "color": "#2a3f5f"
            },
            "marker": {
             "line": {
              "color": "#E5ECF6",
              "width": 0.5
             },
             "pattern": {
              "fillmode": "overlay",
              "size": 10,
              "solidity": 0.2
             }
            },
            "type": "bar"
           }
          ],
          "barpolar": [
           {
            "marker": {
             "line": {
              "color": "#E5ECF6",
              "width": 0.5
             },
             "pattern": {
              "fillmode": "overlay",
              "size": 10,
              "solidity": 0.2
             }
            },
            "type": "barpolar"
           }
          ],
          "carpet": [
           {
            "aaxis": {
             "endlinecolor": "#2a3f5f",
             "gridcolor": "white",
             "linecolor": "white",
             "minorgridcolor": "white",
             "startlinecolor": "#2a3f5f"
            },
            "baxis": {
             "endlinecolor": "#2a3f5f",
             "gridcolor": "white",
             "linecolor": "white",
             "minorgridcolor": "white",
             "startlinecolor": "#2a3f5f"
            },
            "type": "carpet"
           }
          ],
          "choropleth": [
           {
            "colorbar": {
             "outlinewidth": 0,
             "ticks": ""
            },
            "type": "choropleth"
           }
          ],
          "contour": [
           {
            "colorbar": {
             "outlinewidth": 0,
             "ticks": ""
            },
            "colorscale": [
             [
              0,
              "#0d0887"
             ],
             [
              0.1111111111111111,
              "#46039f"
             ],
             [
              0.2222222222222222,
              "#7201a8"
             ],
             [
              0.3333333333333333,
              "#9c179e"
             ],
             [
              0.4444444444444444,
              "#bd3786"
             ],
             [
              0.5555555555555556,
              "#d8576b"
             ],
             [
              0.6666666666666666,
              "#ed7953"
             ],
             [
              0.7777777777777778,
              "#fb9f3a"
             ],
             [
              0.8888888888888888,
              "#fdca26"
             ],
             [
              1,
              "#f0f921"
             ]
            ],
            "type": "contour"
           }
          ],
          "contourcarpet": [
           {
            "colorbar": {
             "outlinewidth": 0,
             "ticks": ""
            },
            "type": "contourcarpet"
           }
          ],
          "heatmap": [
           {
            "colorbar": {
             "outlinewidth": 0,
             "ticks": ""
            },
            "colorscale": [
             [
              0,
              "#0d0887"
             ],
             [
              0.1111111111111111,
              "#46039f"
             ],
             [
              0.2222222222222222,
              "#7201a8"
             ],
             [
              0.3333333333333333,
              "#9c179e"
             ],
             [
              0.4444444444444444,
              "#bd3786"
             ],
             [
              0.5555555555555556,
              "#d8576b"
             ],
             [
              0.6666666666666666,
              "#ed7953"
             ],
             [
              0.7777777777777778,
              "#fb9f3a"
             ],
             [
              0.8888888888888888,
              "#fdca26"
             ],
             [
              1,
              "#f0f921"
             ]
            ],
            "type": "heatmap"
           }
          ],
          "histogram": [
           {
            "marker": {
             "pattern": {
              "fillmode": "overlay",
              "size": 10,
              "solidity": 0.2
             }
            },
            "type": "histogram"
           }
          ],
          "histogram2d": [
           {
            "colorbar": {
             "outlinewidth": 0,
             "ticks": ""
            },
            "colorscale": [
             [
              0,
              "#0d0887"
             ],
             [
              0.1111111111111111,
              "#46039f"
             ],
             [
              0.2222222222222222,
              "#7201a8"
             ],
             [
              0.3333333333333333,
              "#9c179e"
             ],
             [
              0.4444444444444444,
              "#bd3786"
             ],
             [
              0.5555555555555556,
              "#d8576b"
             ],
             [
              0.6666666666666666,
              "#ed7953"
             ],
             [
              0.7777777777777778,
              "#fb9f3a"
             ],
             [
              0.8888888888888888,
              "#fdca26"
             ],
             [
              1,
              "#f0f921"
             ]
            ],
            "type": "histogram2d"
           }
          ],
          "histogram2dcontour": [
           {
            "colorbar": {
             "outlinewidth": 0,
             "ticks": ""
            },
            "colorscale": [
             [
              0,
              "#0d0887"
             ],
             [
              0.1111111111111111,
              "#46039f"
             ],
             [
              0.2222222222222222,
              "#7201a8"
             ],
             [
              0.3333333333333333,
              "#9c179e"
             ],
             [
              0.4444444444444444,
              "#bd3786"
             ],
             [
              0.5555555555555556,
              "#d8576b"
             ],
             [
              0.6666666666666666,
              "#ed7953"
             ],
             [
              0.7777777777777778,
              "#fb9f3a"
             ],
             [
              0.8888888888888888,
              "#fdca26"
             ],
             [
              1,
              "#f0f921"
             ]
            ],
            "type": "histogram2dcontour"
           }
          ],
          "mesh3d": [
           {
            "colorbar": {
             "outlinewidth": 0,
             "ticks": ""
            },
            "type": "mesh3d"
           }
          ],
          "parcoords": [
           {
            "line": {
             "colorbar": {
              "outlinewidth": 0,
              "ticks": ""
             }
            },
            "type": "parcoords"
           }
          ],
          "pie": [
           {
            "automargin": true,
            "type": "pie"
           }
          ],
          "scatter": [
           {
            "fillpattern": {
             "fillmode": "overlay",
             "size": 10,
             "solidity": 0.2
            },
            "type": "scatter"
           }
          ],
          "scatter3d": [
           {
            "line": {
             "colorbar": {
              "outlinewidth": 0,
              "ticks": ""
             }
            },
            "marker": {
             "colorbar": {
              "outlinewidth": 0,
              "ticks": ""
             }
            },
            "type": "scatter3d"
           }
          ],
          "scattercarpet": [
           {
            "marker": {
             "colorbar": {
              "outlinewidth": 0,
              "ticks": ""
             }
            },
            "type": "scattercarpet"
           }
          ],
          "scattergeo": [
           {
            "marker": {
             "colorbar": {
              "outlinewidth": 0,
              "ticks": ""
             }
            },
            "type": "scattergeo"
           }
          ],
          "scattergl": [
           {
            "marker": {
             "colorbar": {
              "outlinewidth": 0,
              "ticks": ""
             }
            },
            "type": "scattergl"
           }
          ],
          "scattermap": [
           {
            "marker": {
             "colorbar": {
              "outlinewidth": 0,
              "ticks": ""
             }
            },
            "type": "scattermap"
           }
          ],
          "scattermapbox": [
           {
            "marker": {
             "colorbar": {
              "outlinewidth": 0,
              "ticks": ""
             }
            },
            "type": "scattermapbox"
           }
          ],
          "scatterpolar": [
           {
            "marker": {
             "colorbar": {
              "outlinewidth": 0,
              "ticks": ""
             }
            },
            "type": "scatterpolar"
           }
          ],
          "scatterpolargl": [
           {
            "marker": {
             "colorbar": {
              "outlinewidth": 0,
              "ticks": ""
             }
            },
            "type": "scatterpolargl"
           }
          ],
          "scatterternary": [
           {
            "marker": {
             "colorbar": {
              "outlinewidth": 0,
              "ticks": ""
             }
            },
            "type": "scatterternary"
           }
          ],
          "surface": [
           {
            "colorbar": {
             "outlinewidth": 0,
             "ticks": ""
            },
            "colorscale": [
             [
              0,
              "#0d0887"
             ],
             [
              0.1111111111111111,
              "#46039f"
             ],
             [
              0.2222222222222222,
              "#7201a8"
             ],
             [
              0.3333333333333333,
              "#9c179e"
             ],
             [
              0.4444444444444444,
              "#bd3786"
             ],
             [
              0.5555555555555556,
              "#d8576b"
             ],
             [
              0.6666666666666666,
              "#ed7953"
             ],
             [
              0.7777777777777778,
              "#fb9f3a"
             ],
             [
              0.8888888888888888,
              "#fdca26"
             ],
             [
              1,
              "#f0f921"
             ]
            ],
            "type": "surface"
           }
          ],
          "table": [
           {
            "cells": {
             "fill": {
              "color": "#EBF0F8"
             },
             "line": {
              "color": "white"
             }
            },
            "header": {
             "fill": {
              "color": "#C8D4E3"
             },
             "line": {
              "color": "white"
             }
            },
            "type": "table"
           }
          ]
         },
         "layout": {
          "annotationdefaults": {
           "arrowcolor": "#2a3f5f",
           "arrowhead": 0,
           "arrowwidth": 1
          },
          "autotypenumbers": "strict",
          "coloraxis": {
           "colorbar": {
            "outlinewidth": 0,
            "ticks": ""
           }
          },
          "colorscale": {
           "diverging": [
            [
             0,
             "#8e0152"
            ],
            [
             0.1,
             "#c51b7d"
            ],
            [
             0.2,
             "#de77ae"
            ],
            [
             0.3,
             "#f1b6da"
            ],
            [
             0.4,
             "#fde0ef"
            ],
            [
             0.5,
             "#f7f7f7"
            ],
            [
             0.6,
             "#e6f5d0"
            ],
            [
             0.7,
             "#b8e186"
            ],
            [
             0.8,
             "#7fbc41"
            ],
            [
             0.9,
             "#4d9221"
            ],
            [
             1,
             "#276419"
            ]
           ],
           "sequential": [
            [
             0,
             "#0d0887"
            ],
            [
             0.1111111111111111,
             "#46039f"
            ],
            [
             0.2222222222222222,
             "#7201a8"
            ],
            [
             0.3333333333333333,
             "#9c179e"
            ],
            [
             0.4444444444444444,
             "#bd3786"
            ],
            [
             0.5555555555555556,
             "#d8576b"
            ],
            [
             0.6666666666666666,
             "#ed7953"
            ],
            [
             0.7777777777777778,
             "#fb9f3a"
            ],
            [
             0.8888888888888888,
             "#fdca26"
            ],
            [
             1,
             "#f0f921"
            ]
           ],
           "sequentialminus": [
            [
             0,
             "#0d0887"
            ],
            [
             0.1111111111111111,
             "#46039f"
            ],
            [
             0.2222222222222222,
             "#7201a8"
            ],
            [
             0.3333333333333333,
             "#9c179e"
            ],
            [
             0.4444444444444444,
             "#bd3786"
            ],
            [
             0.5555555555555556,
             "#d8576b"
            ],
            [
             0.6666666666666666,
             "#ed7953"
            ],
            [
             0.7777777777777778,
             "#fb9f3a"
            ],
            [
             0.8888888888888888,
             "#fdca26"
            ],
            [
             1,
             "#f0f921"
            ]
           ]
          },
          "colorway": [
           "#636efa",
           "#EF553B",
           "#00cc96",
           "#ab63fa",
           "#FFA15A",
           "#19d3f3",
           "#FF6692",
           "#B6E880",
           "#FF97FF",
           "#FECB52"
          ],
          "font": {
           "color": "#2a3f5f"
          },
          "geo": {
           "bgcolor": "white",
           "lakecolor": "white",
           "landcolor": "#E5ECF6",
           "showlakes": true,
           "showland": true,
           "subunitcolor": "white"
          },
          "hoverlabel": {
           "align": "left"
          },
          "hovermode": "closest",
          "mapbox": {
           "style": "light"
          },
          "paper_bgcolor": "white",
          "plot_bgcolor": "#E5ECF6",
          "polar": {
           "angularaxis": {
            "gridcolor": "white",
            "linecolor": "white",
            "ticks": ""
           },
           "bgcolor": "#E5ECF6",
           "radialaxis": {
            "gridcolor": "white",
            "linecolor": "white",
            "ticks": ""
           }
          },
          "scene": {
           "xaxis": {
            "backgroundcolor": "#E5ECF6",
            "gridcolor": "white",
            "gridwidth": 2,
            "linecolor": "white",
            "showbackground": true,
            "ticks": "",
            "zerolinecolor": "white"
           },
           "yaxis": {
            "backgroundcolor": "#E5ECF6",
            "gridcolor": "white",
            "gridwidth": 2,
            "linecolor": "white",
            "showbackground": true,
            "ticks": "",
            "zerolinecolor": "white"
           },
           "zaxis": {
            "backgroundcolor": "#E5ECF6",
            "gridcolor": "white",
            "gridwidth": 2,
            "linecolor": "white",
            "showbackground": true,
            "ticks": "",
            "zerolinecolor": "white"
           }
          },
          "shapedefaults": {
           "line": {
            "color": "#2a3f5f"
           }
          },
          "ternary": {
           "aaxis": {
            "gridcolor": "white",
            "linecolor": "white",
            "ticks": ""
           },
           "baxis": {
            "gridcolor": "white",
            "linecolor": "white",
            "ticks": ""
           },
           "bgcolor": "#E5ECF6",
           "caxis": {
            "gridcolor": "white",
            "linecolor": "white",
            "ticks": ""
           }
          },
          "title": {
           "x": 0.05
          },
          "xaxis": {
           "automargin": true,
           "gridcolor": "white",
           "linecolor": "white",
           "ticks": "",
           "title": {
            "standoff": 15
           },
           "zerolinecolor": "white",
           "zerolinewidth": 2
          },
          "yaxis": {
           "automargin": true,
           "gridcolor": "white",
           "linecolor": "white",
           "ticks": "",
           "title": {
            "standoff": 15
           },
           "zerolinecolor": "white",
           "zerolinewidth": 2
          }
         }
        },
        "title": {
         "text": "Popularity Distribution Across Genres"
        },
        "violinmode": "group",
        "xaxis": {
         "anchor": "y",
         "domain": [
          0,
          1
         ],
         "title": {
          "text": "genre"
         }
        },
        "yaxis": {
         "anchor": "x",
         "domain": [
          0,
          1
         ],
         "title": {
          "text": "popularity"
         }
        }
       }
      }
     },
     "metadata": {},
     "output_type": "display_data"
    }
   ],
   "source": [
    "import plotly.express as px\n",
    "\n",
    "plt = px.violin(music_data, \n",
    "                x='genre', \n",
    "                y='popularity', \n",
    "                box = True,\n",
    "                title=\"Popularity Distribution Across Genres\")\n",
    "\n",
    "plt.show()"
   ]
  },
  {
   "cell_type": "code",
   "execution_count": null,
   "id": "c8512157",
   "metadata": {},
   "outputs": [],
   "source": []
  }
 ],
 "metadata": {
  "kernelspec": {
   "display_name": "Python 3",
   "language": "python",
   "name": "python3"
  },
  "language_info": {
   "codemirror_mode": {
    "name": "ipython",
    "version": 3
   },
   "file_extension": ".py",
   "mimetype": "text/x-python",
   "name": "python",
   "nbconvert_exporter": "python",
   "pygments_lexer": "ipython3",
   "version": "3.13.3"
  }
 },
 "nbformat": 4,
 "nbformat_minor": 5
}
