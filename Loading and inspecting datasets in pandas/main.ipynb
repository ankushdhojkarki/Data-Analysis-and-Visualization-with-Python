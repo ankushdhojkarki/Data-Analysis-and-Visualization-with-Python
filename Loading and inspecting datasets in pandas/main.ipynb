{
 "cells": [
  {
   "cell_type": "code",
   "execution_count": 20,
   "id": "7d88d236",
   "metadata": {},
   "outputs": [
    {
     "name": "stdout",
     "output_type": "stream",
     "text": [
      "\n",
      "Shape of the DataFrame (rows, columns): (50, 13)\n",
      "\n",
      "   customer_id first_name  last_name                       email gender  age  \\\n",
      "0         1001     Sophia      Smith    sophia.smith@example.com      M   54   \n",
      "1         1002     Joseph      Smith    joseph.smith@example.com      M   66   \n",
      "2         1003       John   Anderson   john.anderson@example.com      F   56   \n",
      "3         1004       Emma  Hernandez  emma.hernandez@example.com      M   44   \n",
      "4         1005      Emily     Garcia    emily.garcia@example.com      F   25   \n",
      "\n",
      "          city state country  purchase_count  total_spend  avg_order_value  \\\n",
      "0  San Antonio    TX     USA               5          965            193.0   \n",
      "1  Los Angeles    CA     USA               7         1246            178.0   \n",
      "2      Phoenix    AZ     USA               1          199            199.0   \n",
      "3  Los Angeles    CA     USA              14         3752            268.0   \n",
      "4       Dallas    TX     USA              12         1620            135.0   \n",
      "\n",
      "           last_purchase_date  \n",
      "0  2023-09-12 15:28:32.140488  \n",
      "1  2023-08-25 15:28:32.140488  \n",
      "2  2024-04-28 15:28:32.140488  \n",
      "3  2024-01-01 15:28:32.140488  \n",
      "4  2023-12-09 15:28:32.140488  \n",
      "\n",
      "Column names and their data types:\n",
      " \n",
      "<class 'pandas.core.frame.DataFrame'>\n",
      "RangeIndex: 50 entries, 0 to 49\n",
      "Data columns (total 13 columns):\n",
      " #   Column              Non-Null Count  Dtype  \n",
      "---  ------              --------------  -----  \n",
      " 0   customer_id         50 non-null     int64  \n",
      " 1   first_name          50 non-null     object \n",
      " 2   last_name           50 non-null     object \n",
      " 3   email               50 non-null     object \n",
      " 4   gender              50 non-null     object \n",
      " 5   age                 50 non-null     int64  \n",
      " 6   city                50 non-null     object \n",
      " 7   state               50 non-null     object \n",
      " 8   country             50 non-null     object \n",
      " 9   purchase_count      50 non-null     int64  \n",
      " 10  total_spend         50 non-null     int64  \n",
      " 11  avg_order_value     50 non-null     float64\n",
      " 12  last_purchase_date  50 non-null     object \n",
      "dtypes: float64(1), int64(4), object(8)\n",
      "memory usage: 5.2+ KB\n",
      "\n",
      "Mean Age:  43.44\n",
      "Median Age:  44.5\n"
     ]
    }
   ],
   "source": [
    "import pandas as pd\n",
    "\n",
    "customer_data = pd.read_csv('customer_data_50.csv')\n",
    "print(f\"\\nShape of the DataFrame (rows, columns): {customer_data.shape}\\n\")\n",
    "print(customer_data.head())\n",
    "print(f\"\\nColumn names and their data types:\\n \")\n",
    "customer_data.info()\n",
    "customer_data.describe()\n",
    "\n",
    "mean_age = customer_data['age'].mean()\n",
    "print(\"\\nMean Age: \", mean_age)\n",
    "median_age = customer_data['age'].median()\n",
    "print(\"Median Age: \", median_age)"
   ]
  },
  {
   "cell_type": "markdown",
   "id": "e67cf59d",
   "metadata": {},
   "source": []
  }
 ],
 "metadata": {
  "kernelspec": {
   "display_name": "Python 3",
   "language": "python",
   "name": "python3"
  },
  "language_info": {
   "codemirror_mode": {
    "name": "ipython",
    "version": 3
   },
   "file_extension": ".py",
   "mimetype": "text/x-python",
   "name": "python",
   "nbconvert_exporter": "python",
   "pygments_lexer": "ipython3",
   "version": "3.13.3"
  }
 },
 "nbformat": 4,
 "nbformat_minor": 5
}
